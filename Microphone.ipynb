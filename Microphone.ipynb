{
 "cells": [
  {
   "cell_type": "code",
   "execution_count": null,
   "id": "2a79ba94",
   "metadata": {},
   "outputs": [
    {
     "ename": "",
     "evalue": "",
     "output_type": "error",
     "traceback": [
      "\u001b[1;31mRunning cells with 'c:\\Python311\\python.exe' requires the ipykernel package.\n",
      "\u001b[1;31mRun the following command to install 'ipykernel' into the Python environment. \n",
      "\u001b[1;31mCommand: 'c:/Python311/python.exe -m pip install ipykernel -U --user --force-reinstall'"
     ]
    }
   ],
   "source": [
    "import serial\n",
    "import numpy as np\n",
    "\n",
    "# Configure the serial port\n",
    "SERIAL_PORT = '/dev/ttyUSB0'  \n",
    "BAUD_RATE = 9600\n",
    "SAMPLE_SIZE = 128\n",
    "\n",
    "ser = serial.Serial(SERIAL_PORT, BAUD_RATE) # Connect to serial port\n",
    "\n",
    "\n",
    "try:\n",
    "    while True:\n",
    "\n",
    "        data = ser.read(SAMPLE_SIZE * 2)  # 2 bytes per sample since we are storing in int16\n",
    "        \n",
    "         # Now we have a numpy array of integers\n",
    "        samples = np.frombuffer(data, dtype=np.int16)\n",
    "        \n",
    "        #WAV FILE CONVERSION\n",
    "\n",
    "except KeyboardInterrupt:\n",
    "    ser.close()\n",
    "    print(\"Serial port closed.\")"
   ]
  },
  {
   "cell_type": "raw",
   "id": "602e84f2",
   "metadata": {},
   "source": [
    "/**\n",
    "#include <Arduino.h>\n",
    "#include <Wire.h>\n",
    "#include <Adafruit_I2S.h>\n",
    "\n",
    "#define MIC_PIN      0 // Use the appropriate pin for your specific Arduino board\n",
    "#define SAMPLE_RATE  16000 // Sample rate of the microphone\n",
    "\n",
    "void setup() {\n",
    "  Serial.begin(9600);\n",
    "  while (!Serial);\n",
    "\n",
    "  if (!Adafruit_I2S_MEMS::begin(MIC_PIN, SAMPLE_RATE)) {\n",
    "    Serial.println(\"Failed to initialize I2S microphone!\");\n",
    "    while (1);\n",
    "  }\n",
    "\n",
    "  Serial.println(\"I2S microphone initialized.\");\n",
    "}\n",
    "\n",
    "void loop() {\n",
    "  int16_t samples[128]; // Buffer to hold audio samples\n",
    "  if (Adafruit_I2S_MEMS::read(samples, sizeof(samples))) {\n",
    "    // Send the audio data over serial\n",
    "    Serial.write((uint8_t *)samples, sizeof(samples));\n",
    "  }\n",
    "}\n",
    "**/"
   ]
  },
  {
   "cell_type": "code",
   "execution_count": null,
   "id": "b82b9046",
   "metadata": {},
   "outputs": [
    {
     "ename": "",
     "evalue": "",
     "output_type": "error",
     "traceback": [
      "\u001b[1;31mRunning cells with 'c:\\Python311\\python.exe' requires the ipykernel package.\n",
      "\u001b[1;31mRun the following command to install 'ipykernel' into the Python environment. \n",
      "\u001b[1;31mCommand: 'c:/Python311/python.exe -m pip install ipykernel -U --user --force-reinstall'"
     ]
    }
   ],
   "source": [
    "import wave\n",
    "import array\n",
    "import numpy as np\n",
    "\n",
    "def create_wav_file(amplitude_sequence, sample_rate, output_filename):\n",
    "    # Create a new WAV file\n",
    "    with wave.open(output_filename, 'w') as wav_file:\n",
    "        # Set the WAV file parameters\n",
    "        wav_file.setnchannels(1)  # Mono audio\n",
    "        wav_file.setsampwidth(2)  # 2 bytes per sample for 16-bit audio\n",
    "        wav_file.setframerate(sample_rate)\n",
    "\n",
    "        # Convert amplitude sequence to array of 16-bit integers\n",
    "        audio_data = array.array('h', [int(amplitude) for amplitude in amplitude_sequence])\n",
    "\n",
    "        # Write the audio data to the WAV file\n",
    "        wav_file.writeframes(audio_data.tobytes())\n",
    "\n",
    "# Example usage:\n",
    "\n",
    "amplitude_sequence=[]\n",
    "input_filename='sourish_1.wav'\n",
    "with wave.open(input_filename,'r') as wav_file:\n",
    "    num_frames = wav_file.getnframes()\n",
    "    sample_width = wav_file.getsampwidth()\n",
    "    sample_rate = wav_file.getframerate()\n",
    "    raw_frames = wav_file.readframes(num_frames)\n",
    "    audio_array = np.frombuffer(raw_frames, dtype=np.int16)\n",
    "    amplitude_sequence=audio_array\n",
    "    \n",
    "    print(\"Number of frames:\", num_frames)\n",
    "    print(\"Sample width (bytes):\", sample_width)\n",
    "    print(\"Sample rate:\", sample_rate)\n",
    "    print(\"Length of audio array:\", len(audio_array))\n",
    "\n",
    "print(amplitude_sequence)\n",
    "#amplitude_sequence = [0.1, 0.2, 0.4, 0.6, 0.8, 1.0, 0.8, 0.6, 0.4, 0.2, 0.1]\n",
    "sample_rate = 97656  # Sample rate in Hz\n",
    "output_filename = 'output.wav'\n",
    "\n",
    "create_wav_file(amplitude_sequence, sample_rate, output_filename)\n",
    "\n",
    "\n",
    "\n",
    "\n",
    "\n",
    "\n",
    "\n",
    "\n",
    "\n",
    "\n",
    "# Interpolation\n",
    "\n",
    "\n",
    "# upsampled_array = np.repeat(amplitude_sequence, 2)\n",
    "# upsampled_array = upsampled_array/2\n",
    "\n",
    "# # Linear interpolation\n",
    "# interpolated_array = np.zeros(len(upsampled_array) - 1, dtype=np.float32)\n",
    "# for i in range(len(upsampled_array) - 1):\n",
    "#     i=i+1\n",
    "#     interpolated_array[i] = (upsampled_array[i-1] + upsampled_array[i + 1])\n",
    "\n",
    "# # Print information about the original and interpolated arrays\n",
    "# print(\"Original length:\", len(amplitude_sequence))\n",
    "# print(\"Interpolated length:\", len(interpolated_array))\n",
    "\n",
    "# output_filename = 'interpol.wav'\n",
    "\n",
    "# create_wav_file(interpolated_array, sample_rate*1.99, output_filename)\n",
    "\n"
   ]
  },
  {
   "cell_type": "code",
   "execution_count": null,
   "id": "b92b2b09",
   "metadata": {},
   "outputs": [
    {
     "ename": "",
     "evalue": "",
     "output_type": "error",
     "traceback": [
      "\u001b[1;31mRunning cells with 'c:\\Python311\\python.exe' requires the ipykernel package.\n",
      "\u001b[1;31mRun the following command to install 'ipykernel' into the Python environment. \n",
      "\u001b[1;31mCommand: 'c:/Python311/python.exe -m pip install ipykernel -U --user --force-reinstall'"
     ]
    }
   ],
   "source": []
  }
 ],
 "metadata": {
  "kernelspec": {
   "display_name": "Python 3 (ipykernel)",
   "language": "python",
   "name": "python3"
  },
  "language_info": {
   "codemirror_mode": {
    "name": "ipython",
    "version": 3
   },
   "file_extension": ".py",
   "mimetype": "text/x-python",
   "name": "python",
   "nbconvert_exporter": "python",
   "pygments_lexer": "ipython3",
   "version": "3.11.1"
  }
 },
 "nbformat": 4,
 "nbformat_minor": 5
}
